{
 "cells": [
  {
   "cell_type": "code",
   "execution_count": 1,
   "id": "ef8dd194",
   "metadata": {},
   "outputs": [
    {
     "name": "stdout",
     "output_type": "stream",
     "text": [
      "Requirement already satisfied: selenium in c:\\users\\user\\appdata\\local\\programs\\python\\python311\\lib\\site-packages (4.7.2)Note: you may need to restart the kernel to use updated packages.\n",
      "\n",
      "Requirement already satisfied: urllib3[socks]~=1.26 in c:\\users\\user\\appdata\\local\\programs\\python\\python311\\lib\\site-packages (from selenium) (1.26.14)\n",
      "Requirement already satisfied: trio~=0.17 in c:\\users\\user\\appdata\\local\\programs\\python\\python311\\lib\\site-packages (from selenium) (0.22.0)\n",
      "Requirement already satisfied: trio-websocket~=0.9 in c:\\users\\user\\appdata\\local\\programs\\python\\python311\\lib\\site-packages (from selenium) (0.9.2)\n",
      "Requirement already satisfied: certifi>=2021.10.8 in c:\\users\\user\\appdata\\local\\programs\\python\\python311\\lib\\site-packages (from selenium) (2022.12.7)\n",
      "Requirement already satisfied: attrs>=19.2.0 in c:\\users\\user\\appdata\\local\\programs\\python\\python311\\lib\\site-packages (from trio~=0.17->selenium) (22.2.0)\n",
      "Requirement already satisfied: sortedcontainers in c:\\users\\user\\appdata\\local\\programs\\python\\python311\\lib\\site-packages (from trio~=0.17->selenium) (2.4.0)\n",
      "Requirement already satisfied: async-generator>=1.9 in c:\\users\\user\\appdata\\local\\programs\\python\\python311\\lib\\site-packages (from trio~=0.17->selenium) (1.10)\n",
      "Requirement already satisfied: idna in c:\\users\\user\\appdata\\local\\programs\\python\\python311\\lib\\site-packages (from trio~=0.17->selenium) (3.4)\n",
      "Requirement already satisfied: outcome in c:\\users\\user\\appdata\\local\\programs\\python\\python311\\lib\\site-packages (from trio~=0.17->selenium) (1.2.0)\n",
      "Requirement already satisfied: sniffio in c:\\users\\user\\appdata\\local\\programs\\python\\python311\\lib\\site-packages (from trio~=0.17->selenium) (1.3.0)\n",
      "Requirement already satisfied: cffi>=1.14 in c:\\users\\user\\appdata\\local\\programs\\python\\python311\\lib\\site-packages (from trio~=0.17->selenium) (1.15.1)\n",
      "Requirement already satisfied: wsproto>=0.14 in c:\\users\\user\\appdata\\local\\programs\\python\\python311\\lib\\site-packages (from trio-websocket~=0.9->selenium) (1.2.0)\n",
      "Requirement already satisfied: PySocks!=1.5.7,<2.0,>=1.5.6 in c:\\users\\user\\appdata\\local\\programs\\python\\python311\\lib\\site-packages (from urllib3[socks]~=1.26->selenium) (1.7.1)\n",
      "Requirement already satisfied: pycparser in c:\\users\\user\\appdata\\local\\programs\\python\\python311\\lib\\site-packages (from cffi>=1.14->trio~=0.17->selenium) (2.21)\n",
      "Requirement already satisfied: h11<1,>=0.9.0 in c:\\users\\user\\appdata\\local\\programs\\python\\python311\\lib\\site-packages (from wsproto>=0.14->trio-websocket~=0.9->selenium) (0.14.0)\n"
     ]
    }
   ],
   "source": [
    "pip install selenium"
   ]
  },
  {
   "cell_type": "code",
   "execution_count": 2,
   "id": "e56fa066",
   "metadata": {},
   "outputs": [],
   "source": [
    "import pandas as pd"
   ]
  },
  {
   "cell_type": "code",
   "execution_count": 3,
   "id": "1786d4c7",
   "metadata": {},
   "outputs": [],
   "source": [
    "from bs4 import BeautifulSoup\n",
    "import urllib.request\n",
    "from urllib.parse import quote\n",
    "import time\n",
    "from selenium import webdriver\n",
    "from selenium.webdriver.common.by import By"
   ]
  },
  {
   "cell_type": "code",
   "execution_count": 4,
   "id": "9f31acae",
   "metadata": {},
   "outputs": [
    {
     "name": "stdout",
     "output_type": "stream",
     "text": [
      "Requirement already satisfied: lxml in c:\\users\\user\\appdata\\local\\programs\\python\\python311\\lib\\site-packages (4.9.2)Note: you may need to restart the kernel to use updated packages.\n",
      "\n"
     ]
    }
   ],
   "source": [
    "pip install lxml"
   ]
  },
  {
   "cell_type": "code",
   "execution_count": 5,
   "id": "7312c888",
   "metadata": {},
   "outputs": [],
   "source": [
    "#selenium 속도 향상을 위한 설정\n",
    "from selenium.webdriver.chrome.options import Options\n",
    "\n",
    "chrome_options = Options()\n",
    "chrome_options.headless = True\n",
    "\n",
    "from selenium.webdriver.common.desired_capabilities import DesiredCapabilities\n",
    "\n",
    "caps = DesiredCapabilities().CHROME\n",
    "caps[\"pageLoadStrategy\"] = \"none\"\n"
   ]
  },
  {
   "cell_type": "code",
   "execution_count": 6,
   "id": "8c04aa84",
   "metadata": {},
   "outputs": [],
   "source": [
    "from selenium import webdriver"
   ]
  },
  {
   "cell_type": "code",
   "execution_count": 7,
   "id": "131cec58",
   "metadata": {},
   "outputs": [
    {
     "name": "stdout",
     "output_type": "stream",
     "text": [
      "Requirement already satisfied: webdriver_manager in c:\\users\\user\\appdata\\local\\programs\\python\\python311\\lib\\site-packages (3.8.5)Note: you may need to restart the kernel to use updated packages.\n",
      "\n",
      "Requirement already satisfied: requests in c:\\users\\user\\appdata\\local\\programs\\python\\python311\\lib\\site-packages (from webdriver_manager) (2.28.2)\n",
      "Requirement already satisfied: python-dotenv in c:\\users\\user\\appdata\\local\\programs\\python\\python311\\lib\\site-packages (from webdriver_manager) (0.21.0)\n",
      "Requirement already satisfied: tqdm in c:\\users\\user\\appdata\\local\\programs\\python\\python311\\lib\\site-packages (from webdriver_manager) (4.64.1)\n",
      "Requirement already satisfied: packaging in c:\\users\\user\\appdata\\local\\programs\\python\\python311\\lib\\site-packages (from webdriver_manager) (23.0)\n",
      "Requirement already satisfied: charset-normalizer<4,>=2 in c:\\users\\user\\appdata\\local\\programs\\python\\python311\\lib\\site-packages (from requests->webdriver_manager) (3.0.1)\n",
      "Requirement already satisfied: idna<4,>=2.5 in c:\\users\\user\\appdata\\local\\programs\\python\\python311\\lib\\site-packages (from requests->webdriver_manager) (3.4)\n",
      "Requirement already satisfied: urllib3<1.27,>=1.21.1 in c:\\users\\user\\appdata\\local\\programs\\python\\python311\\lib\\site-packages (from requests->webdriver_manager) (1.26.14)\n",
      "Requirement already satisfied: certifi>=2017.4.17 in c:\\users\\user\\appdata\\local\\programs\\python\\python311\\lib\\site-packages (from requests->webdriver_manager) (2022.12.7)\n",
      "Requirement already satisfied: colorama in c:\\users\\user\\appdata\\local\\programs\\python\\python311\\lib\\site-packages (from tqdm->webdriver_manager) (0.4.6)\n"
     ]
    }
   ],
   "source": [
    "pip install webdriver_manager"
   ]
  },
  {
   "cell_type": "code",
   "execution_count": 8,
   "id": "eacbda4d",
   "metadata": {},
   "outputs": [],
   "source": [
    "from selenium.webdriver.chrome.service import Service\n",
    "from webdriver_manager.chrome import ChromeDriverManager\n",
    "driver = webdriver.Chrome(service=Service(ChromeDriverManager().install()))"
   ]
  },
  {
   "cell_type": "code",
   "execution_count": 9,
   "id": "fdc25049",
   "metadata": {},
   "outputs": [],
   "source": [
    "# Beautiful soup로 했을 때 더보기 버튼 못 찾는 문제 발생\n",
    "# driver = webdriver.Chrome()\n",
    "# driver.get('https://www.chosun.com/politics/')\n",
    "#soup = BeautifulSoup(driver.page_source, 'lxml')\n",
    "#print(soup)"
   ]
  },
  {
   "cell_type": "code",
   "execution_count": 10,
   "id": "aab30d4d",
   "metadata": {},
   "outputs": [
    {
     "name": "stderr",
     "output_type": "stream",
     "text": [
      "C:\\Users\\User\\AppData\\Local\\Temp\\ipykernel_96\\2556913341.py:6: DeprecationWarning: use options instead of chrome_options\n",
      "  driver = webdriver.Chrome(chrome_options=chrome_options)\n"
     ]
    },
    {
     "name": "stdout",
     "output_type": "stream",
     "text": [
      "<selenium.webdriver.remote.webelement.WebElement (session=\"997907b5b345a3a6573219347844c5ab\", element=\"37262740-833b-4c56-9cf6-c78dceb1eaf8\")>\n"
     ]
    }
   ],
   "source": [
    "#selenium 사용 시 더보기 버튼 찾기 가능\n",
    "chrome_options = webdriver.ChromeOptions()\n",
    "chrome_options.add_argument('headless')\n",
    "chrome_options.add_argument('--disable-gpu')\n",
    "chrome_options.add_argument('lang=ko_KR')\n",
    "driver = webdriver.Chrome(chrome_options=chrome_options)\n",
    "    \n",
    "driver.get('https://www.chosun.com/politics/')\n",
    "\n",
    "btn = driver.find_element(By.XPATH, '//button[text()=\"기사 더보기\"]')\n",
    "print(btn)\n",
    "btn.click()"
   ]
  },
  {
   "cell_type": "code",
   "execution_count": 11,
   "id": "42c828c2",
   "metadata": {},
   "outputs": [],
   "source": [
    "import time\n",
    "from time import sleep"
   ]
  },
  {
   "cell_type": "code",
   "execution_count": 12,
   "id": "fc8e44af",
   "metadata": {},
   "outputs": [],
   "source": [
    "#정치 기사 탭에서 스크롤, 더보기 버튼 클릭 - selenium 사용\n",
    "def scroll_plus():\n",
    "#     더보기 버튼 클릭되어야 하므로 headless 옵션 적용하면 안됨\n",
    "#     chrome_options = webdriver.ChromeOptions()\n",
    "#     chrome_options.add_argument('headless')\n",
    "#     chrome_options.add_argument('--disable-gpu')\n",
    "#     chrome_options.add_argument('lang=ko_KR')\n",
    "    driver = webdriver.Chrome()\n",
    "    \n",
    "    driver.get('https://www.chosun.com/politics/')\n",
    "    driver.maximize_window()\n",
    "    for i in range (110):\n",
    "        driver.execute_script(\"window.scrollTo(0, document.body.scrollHeight)\")\n",
    "        sleep(1)\n",
    "        \n",
    "        btn = driver.find_element(By.XPATH, '//button[text()=\"기사 더보기\"]')\n",
    "        btn.click()\n",
    "    return driver\n",
    "        "
   ]
  },
  {
   "cell_type": "code",
   "execution_count": 13,
   "id": "ed4abaaf",
   "metadata": {},
   "outputs": [],
   "source": [
    "#실패한 코드(Beautiful Soup으로 하면 html이 그대로 가져와지지 않는 문제 발생)\n",
    "\n",
    "# def get_news():\n",
    "#     news_df = pd.DataFrame(columns=(\"title\", \"article\", \"news\"))\n",
    "#     idx = 0\n",
    "#     links = soup.find_all('div', {'class':'story-card-component story-card__headline-container | text--overflow-ellipsis text--left'})\n",
    "\n",
    "    \n",
    "#     for link in links:\n",
    "#         news_url = link.find('a').get('href')\n",
    "#         news_url = 'https://www.chosun.com' + news_url\n",
    "#         print(news_url)\n",
    "#         news_link = urllib.request.urlopen(news_url).read()\n",
    "#         news_html = BeautifulSoup(news_link, 'html.parser')\n",
    "        \n",
    "#         title = news_html.find('h1').get_text()\n",
    "#         article = news_html.find('section', {'class' : 'article-body'}).get_text()\n",
    "#         #article = news_html.find('script', {'id' : 'fusion-metadata'}).get('content')\n",
    "#         publisher = '조선일보'\n",
    "\n",
    "#         news_df.loc[idx] = [title, article, publisher]\n",
    "#         idx += 1\n",
    "#         print(\"#\", end = \"\")\n",
    "#     return news_html\n"
   ]
  },
  {
   "cell_type": "code",
   "execution_count": 14,
   "id": "48be90bc",
   "metadata": {},
   "outputs": [],
   "source": [
    "def get_news():\n",
    "    driver = scroll_plus()\n",
    "    news_df = pd.DataFrame(columns=(\"title\", \"article\", \"news\"))\n",
    "    idx = 0\n",
    "    \n",
    "    #scropp_plus()가 리턴한 driver에서 Beautiful Soup 사용 -> 기사 링크를 담고 있는 'div'들을 links 배열에 저장\n",
    "    soup = BeautifulSoup(driver.page_source, 'lxml')\n",
    "    links = soup.find_all('div', {'class':'story-card-component story-card__headline-container | text--overflow-ellipsis text--left'})\n",
    "    \n",
    "    \n",
    "    #selenium 속도 향상을 위해 headless 옵션 적용\n",
    "    chrome_options = webdriver.ChromeOptions()\n",
    "    chrome_options.add_argument('headless')\n",
    "    chrome_options.add_argument('--disable-gpu')\n",
    "    chrome_options.add_argument('lang=ko_KR')\n",
    "    driver = webdriver.Chrome(chrome_options=chrome_options)\n",
    "    \n",
    "    for link in links:\n",
    "        news_url = link.find('a').get('href')\n",
    "        news_url = 'https://www.chosun.com' + news_url\n",
    "        if(news_url == '#'):\n",
    "            continue\n",
    "        else:\n",
    "            # 각 링크 열어서 제목, 본문 태그의 내용 가져오기\n",
    "            driver.get(news_url)\n",
    "            title = driver.find_element(By.TAG_NAME, 'h1').text\n",
    "            article = driver.find_element(By.CLASS_NAME, 'article-body').text\n",
    "            publisher = '조선일보'\n",
    "            \n",
    "            #데이터 프레임으로 만들기\n",
    "            news_df.loc[idx] = [title, article, publisher]\n",
    "            idx += 1\n",
    "            print(\"#\", end = \"\")\n",
    "    return news_df\n",
    "    "
   ]
  },
  {
   "cell_type": "code",
   "execution_count": 12,
   "id": "bc64541c",
   "metadata": {},
   "outputs": [
    {
     "name": "stderr",
     "output_type": "stream",
     "text": [
      "C:\\Users\\User\\AppData\\Local\\Temp\\ipykernel_14760\\987083695.py:20: DeprecationWarning: use options instead of chrome_options\n",
      "  driver = webdriver.Chrome(chrome_options=chrome_options)\n"
     ]
    },
    {
     "name": "stdout",
     "output_type": "stream",
     "text": [
      "#########################################################################################################################################################################################################################################################################################################################################################################################################################################################################################################################################################################################################################################################################################################################################################################################################################################################################################################################################################################################################################################################################################################################################################################"
     ]
    }
   ],
   "source": [
    "get_news().to_csv('chsun1000.csv', encoding='utf-8-sig')"
   ]
  },
  {
   "cell_type": "code",
   "execution_count": null,
   "id": "f01b3524",
   "metadata": {},
   "outputs": [],
   "source": []
  }
 ],
 "metadata": {
  "kernelspec": {
   "display_name": "Python 3 (ipykernel)",
   "language": "python",
   "name": "python3"
  },
  "language_info": {
   "codemirror_mode": {
    "name": "ipython",
    "version": 3
   },
   "file_extension": ".py",
   "mimetype": "text/x-python",
   "name": "python",
   "nbconvert_exporter": "python",
   "pygments_lexer": "ipython3",
   "version": "3.11.1"
  }
 },
 "nbformat": 4,
 "nbformat_minor": 5
}
